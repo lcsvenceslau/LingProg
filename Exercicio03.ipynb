{
  "nbformat": 4,
  "nbformat_minor": 0,
  "metadata": {
    "colab": {
      "name": "Copy of USJT-2020-LINGPROG-aula03-pratica- ifs e loops.ipynb",
      "provenance": [],
      "collapsed_sections": []
    },
    "kernelspec": {
      "display_name": "Python 3",
      "language": "python",
      "name": "python3"
    },
    "language_info": {
      "codemirror_mode": {
        "name": "ipython",
        "version": 3
      },
      "file_extension": ".py",
      "mimetype": "text/x-python",
      "name": "python",
      "nbconvert_exporter": "python",
      "pygments_lexer": "ipython3",
      "version": "3.6.4"
    }
  },
  "cells": [
    {
      "cell_type": "markdown",
      "metadata": {
        "id": "3gqxqiwHHth5",
        "colab_type": "text"
      },
      "source": [
        "![logo_usjt.png](https://www.usjt.br/app/themes/mobister/dist/images/sao-judas-universidade.png)"
      ]
    },
    {
      "cell_type": "markdown",
      "metadata": {
        "id": "t1gX8ceIHtiC",
        "colab_type": "text"
      },
      "source": [
        "# Paradigmas de Linguagens de Programação\n",
        "- **Professor**: Sergio Bonato <antonio.bonato@saojudas.br>"
      ]
    },
    {
      "cell_type": "markdown",
      "metadata": {
        "id": "t4Hi17B9HtiF",
        "colab_type": "text"
      },
      "source": [
        "# Atividade03 - Python Básico - Ifs, Loops e Arquivos\n",
        "\n",
        "**Conteúdo:**\n",
        "- comparações, condicionais\n",
        "- laços for e while\n",
        "- arquivos"
      ]
    },
    {
      "cell_type": "markdown",
      "metadata": {
        "id": "ffmabJrFHtiH",
        "colab_type": "text"
      },
      "source": [
        "## Autor\n",
        "- **Aluno:**\n",
        "\n",
        "Obs: as tarefas devem ser individuais."
      ]
    },
    {
      "cell_type": "markdown",
      "metadata": {
        "id": "-yoz1SzsHtiK",
        "colab_type": "text"
      },
      "source": [
        "## Exercícios"
      ]
    },
    {
      "cell_type": "markdown",
      "metadata": {
        "id": "aaAP6IdlHtiN",
        "colab_type": "text"
      },
      "source": [
        "**1** Faça um programa para a leitura de duas notas parciais de um aluno. O programa deve calcular a média alcançada por aluno e apresentar:\n",
        "- A mensagem \"Aprovado\", se a média alcançada for maior ou igual a sete;\n",
        "- A mensagem \"Reprovado\", se a média for menor do que sete;\n",
        "- A mensagem \"Aprovado com Distinção\", se a média for igual a dez."
      ]
    },
    {
      "cell_type": "code",
      "metadata": {
        "id": "wzdBFYl9HtiP",
        "colab_type": "code",
        "colab": {}
      },
      "source": [
        "nota1 = int(input('Digite a primeira nota:'))\n",
        "nota2 = int(input('Digite a segunda nota:'))\n",
        "\n",
        "soma = nota1 + nota2\n",
        "media = soma // 2\n",
        "\n",
        "if(media == 10):\n",
        "  print('Aprovado com Distinção')\n",
        "elif media < 7:\n",
        "  print('Reprovado')\n",
        "elif media >= 7:\n",
        "  print('Aprovado')\n",
        "else:\n",
        "  print('')\n"
      ],
      "execution_count": 0,
      "outputs": []
    },
    {
      "cell_type": "markdown",
      "metadata": {
        "id": "YWhBAkhJHtiZ",
        "colab_type": "text"
      },
      "source": [
        "**2** Faça um programa que leia três números e mostre-os em ordem decrescente."
      ]
    },
    {
      "cell_type": "code",
      "metadata": {
        "id": "QMUQpgfdHtib",
        "colab_type": "code",
        "colab": {}
      },
      "source": [
        "numeros = []\n",
        "while len(numeros) < 3:\n",
        "     x = float(input(\"Escreva um numero: \"))\n",
        "     numeros.append(x)\n",
        "     \n",
        "numeros.sort(key=float,reverse=True)\n",
        "\n",
        "print(numeros)"
      ],
      "execution_count": 0,
      "outputs": []
    },
    {
      "cell_type": "markdown",
      "metadata": {
        "id": "yQM4XV97Htii",
        "colab_type": "text"
      },
      "source": [
        "**3** As Organizações Tabajara resolveram dar um aumento de salário aos seus colaboradores e lhe contrataram para desenvolver o programa que calculará os reajustes.\n",
        "\n",
        "Faça um programa que recebe o salário de um colaborador e o reajuste segundo o seguinte critério, baseado no salário atual:\n",
        "- salários até R\\$ 280,00 (incluindo) : aumento de 20%\n",
        "- salários entre R\\$ 280,00 e R\\$ 700,00 : aumento de 15%\n",
        "- salários entre R\\$ 700,00 e R\\$ 1500,00 : aumento de 10%\n",
        "- salários de R\\$ 1500,00 em diante : aumento de 5% \n",
        "\n",
        "Após o aumento ser realizado, informe na tela:\n",
        "- o salário antes do reajuste;\n",
        "- o percentual de aumento aplicado;\n",
        "- o valor do aumento;\n",
        "- o novo salário, após o aumento."
      ]
    },
    {
      "cell_type": "code",
      "metadata": {
        "id": "nqwPi2s1Htik",
        "colab_type": "code",
        "colab": {}
      },
      "source": [
        "salario = float(input(\"Qual o salário atual?\"))\n",
        "\n",
        "if salario <= 280:\n",
        "  percentual = 20\n",
        "  aumento = salario * 0.2\n",
        "\n",
        "\n",
        "elif salario > 280 and salario <= 700:\n",
        "  percentual = 15\n",
        "  aumento = salario * 0.15\n",
        "\n",
        "\n",
        "elif salario > 700 and salario <= 1500:\n",
        "  percentual = 10\n",
        "  aumento = salario * 0.10\n",
        "\n",
        "else:\n",
        "  percentual = 5\n",
        "  aumento = salario * 0.05\n",
        "\n",
        "new_salario = aumento +  salario\n",
        "\n",
        "\n",
        "print('Salário antes do reajuste: ', salario)\n",
        "print('O percentual de aumento foi de: ' , percentual, '%')\n",
        "print('O valor do aumento foi de:' , aumento)\n",
        "print('Novo salário: ' , new_salario)"
      ],
      "execution_count": 0,
      "outputs": []
    },
    {
      "cell_type": "markdown",
      "metadata": {
        "id": "y1oT3g_rHtis",
        "colab_type": "text"
      },
      "source": [
        "**4** Faça um Programa que leia um número e exiba o dia correspondente da semana. (1-Domingo, 2- Segunda, etc.), se digitar outro valor deve aparecer valor inválido."
      ]
    },
    {
      "cell_type": "code",
      "metadata": {
        "id": "qiQppwEGHtit",
        "colab_type": "code",
        "colab": {}
      },
      "source": [
        "semana = {1 : \"Domingo\", 2 : \"Segunda\", 3 : \"Terça\", 4 : \"Quarta\", 5 : \"Quinta\", 6 : \"Sexta\", 7 : \"Sábado\"}\n",
        "\n",
        "dia = int(input('Insira um número correspondente ao dia da semana:'))\n",
        "if dia <= 7 and dia > 0:\n",
        "  print(semana[dia])\n",
        "\n",
        "else:\n",
        "  print('Digite um número válido')"
      ],
      "execution_count": 0,
      "outputs": []
    },
    {
      "cell_type": "markdown",
      "metadata": {
        "id": "_AcKXk_oHti3",
        "colab_type": "text"
      },
      "source": [
        "**5** Faça um Programa que peça os 3 lados de um triângulo. O programa deverá informar se os valores podem ser um triângulo. Indique, caso os lados formem um triângulo, se o mesmo é: equilátero, isósceles ou escaleno.\n",
        "\n",
        "Dicas:\n",
        "- Três lados formam um triângulo quando a soma de quaisquer dois lados for maior que o terceiro;\n",
        "- Triângulo Equilátero: três lados iguais;\n",
        "- Triângulo Isósceles: quaisquer dois lados iguais;\n",
        "- Triângulo Escaleno: três lados diferentes;\n"
      ]
    },
    {
      "cell_type": "code",
      "metadata": {
        "id": "FM6GYseFHti5",
        "colab_type": "code",
        "colab": {}
      },
      "source": [
        "a = int(input(\"Digite o valor do primeiro lado do triangulo: \"))\n",
        "b = int(input(\"Digite o valor do segundo lado do triangulo: \"))\n",
        "c = int(input(\"Digite o valor do terceiro lado do triangulo: \"))\n",
        "\n",
        "if abs(b - c) < a and a < b + c and abs(a - c) < b and b < a + c and abs(a - b) < c and c < a + b:\n",
        "\tprint (\"Os valores informados formam um triângulo\")\n",
        "\tif a == b and b == c:\n",
        "\t\tprint (\"O triângulo é equilátero\")\n",
        "\telif a == b or b == c or a == c:\n",
        "\t\tprint (\"O triângulo é isósceles\")\n",
        "\telse:\n",
        "\t\tprint (\"O triângulo é escaleno\")\n",
        "else:\n",
        "\tprint (\"Os valores informados não podem formar um triângulo\")"
      ],
      "execution_count": 0,
      "outputs": []
    },
    {
      "cell_type": "markdown",
      "metadata": {
        "id": "PKWsTZMgHtjA",
        "colab_type": "text"
      },
      "source": [
        "**6** Faça um programa que calcule as raízes de uma equação do segundo grau, na forma `ax2 + bx + c`. O programa deverá pedir os valores de `a`, `b` e `c` e fazer as consistências, informando ao usuário nas seguintes situações:\n",
        "\n",
        "- Se o usuário informar o valor de A igual a zero, a equação não é do segundo grau e o programa não deve fazer pedir os demais valores, sendo encerrado;\n",
        "- Se o delta calculado for negativo, a equação não possui raizes reais. Informe ao usuário e encerre o programa;\n",
        "- Se o delta calculado for igual a zero a equação possui apenas uma raiz real; informe-a ao usuário;\n",
        "- Se o delta for positivo, a equação possui duas raiz reais; informe-as ao usuário."
      ]
    },
    {
      "cell_type": "code",
      "metadata": {
        "id": "_Sb_tnndHtjD",
        "colab_type": "code",
        "colab": {}
      },
      "source": [
        "a = float(input('Digite o valor de A: '))\n",
        "if a == 0:\n",
        "    print(\"Não é uma equação de segundo grau, programa encerrado.\")\n",
        "else:\n",
        "    b = float(input('Digite o valor de B: '))\n",
        "    c = float(input('Digite o valor de C: '))\n",
        "    delta = b**2 - 4*a*c\n",
        "    if delta < 0:\n",
        "        print(\"A equação não possui raizes reais > Programa encerrado.\")\n",
        "    elif delta == 0:\n",
        "        x = -b / (2*a)\n",
        "        print(\"A equação possui apenas uma raiz real:\", x)\n",
        "    else:\n",
        "        x1 = (-b + math.sqrt(delta)) / (2*a)\n",
        "        x2 = (-b - math.sqrt(delta)) / (2*a)\n",
        "        print(f\"A equação possui duas raiz reais: {x1} e {x2}\")"
      ],
      "execution_count": 0,
      "outputs": []
    },
    {
      "cell_type": "markdown",
      "metadata": {
        "id": "uYdNdqrSHtjK",
        "colab_type": "text"
      },
      "source": [
        "**7** Faça um programa que faça 5 perguntas para uma pessoa sobre um crime. As perguntas são:\n",
        "- \"Telefonou para a vítima?\"\n",
        "- \"Esteve no local do crime?\"\n",
        "- \"Mora perto da vítima?\"\n",
        "- \"Devia para a vítima?\"\n",
        "- \"Já trabalhou com a vítima?\" \n",
        "\n",
        "O programa deve no final emitir uma classificação sobre a participação da pessoa no crime. Se a pessoa responder positivamente a 2 questões ela deve ser classificada como \"Suspeita\", entre 3 e 4 como \"Cúmplice\" e 5 como \"Assassino\". Caso contrário, ele será classificado como \"Inocente\"."
      ]
    },
    {
      "cell_type": "code",
      "metadata": {
        "id": "VBJtHx8iHtjN",
        "colab_type": "code",
        "colab": {}
      },
      "source": [
        "score = 0\n",
        "respostas = [\n",
        "    input(\"Telefonou para a vítima? (s/n): \"),\n",
        "    input(\"Esteve no local do crime? (s/n): \"),\n",
        "    input(\"Mora perto da vítima? (s/n): \"),\n",
        "    input(\"Devia para a vítima? (s/n): \"),\n",
        "    input(\"Já trabalhou com a vítima? (s/n): \")\n",
        "]\n",
        "\n",
        "for resposta in respostas:\n",
        "    if resposta == \"s\":\n",
        "        score += 1\n",
        "        \n",
        "if score == 2:\n",
        "    print(\"Suspeita\")\n",
        "elif score >= 3 and score <= 4:\n",
        "    print(\"Cúmplice\")\n",
        "elif score == 5:\n",
        "    print(\"Assassino\")\n",
        "else:\n",
        "    print(\"Inocente\")"
      ],
      "execution_count": 0,
      "outputs": []
    },
    {
      "cell_type": "markdown",
      "metadata": {
        "id": "gLcUMwJiHtjV",
        "colab_type": "text"
      },
      "source": [
        "**8** Faça um programa que peça uma nota, entre zero e dez. Mostre uma mensagem caso o valor seja inválido e continue pedindo até que o usuário informe um valor válido."
      ]
    },
    {
      "cell_type": "code",
      "metadata": {
        "id": "rbjN15DuHtjX",
        "colab_type": "code",
        "colab": {}
      },
      "source": [
        "num = int(input(\"Digite uma nota entre zero e dez: \"))\n",
        "\n",
        "while num < 0 or num > 10:\n",
        "    print(\"Valor inválido.\")\n",
        "    num = int(input(\"Digite uma nota entre zero e dez: \"))\n",
        "\n",
        "print(\"Valor válido.\")"
      ],
      "execution_count": 0,
      "outputs": []
    },
    {
      "cell_type": "markdown",
      "metadata": {
        "id": "GluC4QpfHtjd",
        "colab_type": "text"
      },
      "source": [
        "**9** Faça um programa que leia 5 números e informe a soma e a média dos números."
      ]
    },
    {
      "cell_type": "code",
      "metadata": {
        "id": "Fv5KQa64Htje",
        "colab_type": "code",
        "colab": {}
      },
      "source": [
        "soma = 0\n",
        "\n",
        "for num in range(1,6):\n",
        "    soma += int(input(f\"Digite o {num}º número: \"))\n",
        "\n",
        "print(\"Soma:\", soma)\n",
        "print(\"Media:\", soma // 2)"
      ],
      "execution_count": 0,
      "outputs": []
    },
    {
      "cell_type": "markdown",
      "metadata": {
        "id": "8ICiJETyHtjl",
        "colab_type": "text"
      },
      "source": [
        "**10** Faça um programa que imprima na tela apenas os números ímpares entre 1 e 50."
      ]
    },
    {
      "cell_type": "code",
      "metadata": {
        "id": "0eIPjlFcHtjn",
        "colab_type": "code",
        "colab": {}
      },
      "source": [
        "for num in range(1, 51):\n",
        "    if num % 2 != 0:\n",
        "        print(num)"
      ],
      "execution_count": 0,
      "outputs": []
    },
    {
      "cell_type": "markdown",
      "metadata": {
        "id": "XR8AzudqHtjt",
        "colab_type": "text"
      },
      "source": [
        "**11** Desenvolva um gerador de tabuada, capaz de gerar a tabuada de qualquer número inteiro entre 1 a 10. O usuário deve informar de qual numero ele deseja ver a tabuada. A saída deve ser conforme o exemplo abaixo:\n",
        "\n",
        "`\n",
        "Tabuada do 5:\n",
        "5 X 1 = 5\n",
        "5 X 2 = 10\n",
        "...\n",
        "5 X 10 = 50\n",
        "`"
      ]
    },
    {
      "cell_type": "code",
      "metadata": {
        "id": "n21qu7mYHtjv",
        "colab_type": "code",
        "colab": {}
      },
      "source": [
        "tabuada = int(input(\"Digite o número da tabuada: \"))\n",
        "for mt in range(1, 11):\n",
        "    res = mt*tabuada\n",
        "    print(f\"{tabuada} X {mt} = {res}\")"
      ],
      "execution_count": 0,
      "outputs": []
    },
    {
      "cell_type": "markdown",
      "metadata": {
        "id": "1IDs5mAxHtj3",
        "colab_type": "text"
      },
      "source": [
        "**12** A série de Fibonacci é formada pela seqüência 1,1,2,3,5,8,13,21,34,55,... Faça um programa capaz de gerar a série até o n−ésimo termo."
      ]
    },
    {
      "cell_type": "code",
      "metadata": {
        "id": "rgHTOE0jHtj6",
        "colab_type": "code",
        "colab": {}
      },
      "source": [
        "a = 0\n",
        "b = 1\n",
        "nesimo = int(input(\"Até qual termo? \"))\n",
        "for i in range(nesimo):\n",
        "    print(a)\n",
        "    aux = b\n",
        "    b = a + b\n",
        "    a = aux"
      ],
      "execution_count": 0,
      "outputs": []
    },
    {
      "cell_type": "markdown",
      "metadata": {
        "id": "Ylr6i8s1Htj_",
        "colab_type": "text"
      },
      "source": [
        "**13** Faça um programa que calcule o fatorial de um número inteiro fornecido pelo usuário. Ex.: 5!=5.4.3.2.1=120"
      ]
    },
    {
      "cell_type": "code",
      "metadata": {
        "id": "0tzcGQylHtkA",
        "colab_type": "code",
        "colab": {}
      },
      "source": [
        "fatorial = int(input(\"Fatorial de: \"))\n",
        "for i in range(1, fatorial):\n",
        "    fatorial = fatorial * i\n",
        "print(fatorial)"
      ],
      "execution_count": 0,
      "outputs": []
    },
    {
      "cell_type": "markdown",
      "metadata": {
        "id": "n-POm9U1HtkI",
        "colab_type": "text"
      },
      "source": [
        "**14** Faça um programa que receba o valor de uma dívida e mostre uma tabela com os seguintes dados: valor da dívida, valor dos juros, quantidade de parcelas e valor da parcela.\n",
        "\n",
        "Os juros e a quantidade de parcelas seguem a tabela abaixo:\n",
        "\n",
        "|Quantidade de Parcelas|% de Juros sobre o valor inicial da dívida|\n",
        "|:-|:-|\n",
        "|1       |0\n",
        "|3       |10\n",
        "|6       |15\n",
        "|9       |20\n",
        "|12      |25\n",
        "\n",
        "Exemplo de saída do programa:\n",
        "\n",
        "|Valor da Dívida|Valor dos Juros|Quantidade de Parcelas|Valor da Parcela|\n",
        "|:-|:-|:-|:-|\n",
        "|1.000,00|0|1|1.000,00\n",
        "|1.100,00|100|3|366,00\n",
        "|1.150,00|150|6|191,67\n"
      ]
    },
    {
      "cell_type": "code",
      "metadata": {
        "id": "GQ8B_9TOHtkL",
        "colab_type": "code",
        "colab": {}
      },
      "source": [
        "dividaInicial = float(input(\"Insira o valor da dívida: \"))\n",
        "print(\"Dívida \\t Valor Juros \\t Qtde Parcelas \\t Valor da Parcela\")\n",
        "for i in range(0, 5):\n",
        "    if i == 0:\n",
        "        juros = 0\n",
        "    elif i == 1:\n",
        "        juros = 10\n",
        "    else:\n",
        "        juros += 5\n",
        "    valorJuros = dividaInicial * (juros / 100)\n",
        "    divida = dividaInicial + valorJuros\n",
        "    if i == 0:\n",
        "        qtdeParc = 1\n",
        "    else:\n",
        "        qtdeParc = i * 3\n",
        "    if qtdeParc != 0:\n",
        "        valorParcela = divida / qtdeParc\n",
        "    else:\n",
        "        valorParcela = divida"
      ],
      "execution_count": 0,
      "outputs": []
    },
    {
      "cell_type": "markdown",
      "metadata": {
        "id": "USzuZ-tRHtkS",
        "colab_type": "text"
      },
      "source": [
        "**15** A ACME Inc., uma empresa de 500 funcionários, está tendo problemas de espaço em disco no seu servidor de arquivos. Para tentar resolver este problema, o Administrador de Rede precisa saber qual o espaço ocupado pelos usuários, e identificar os usuários com maior espaço ocupado. Através de um programa, baixado da Internet, ele conseguiu gerar o seguinte arquivo, chamado \"usuarios.txt\":\n",
        "\n",
        "```\n",
        "alexandre       456123789\n",
        "anderson        1245698456\n",
        "antonio         123456456\n",
        "carlos          91257581\n",
        "cesar           987458\n",
        "rosemary        789456125\n",
        "```\n",
        "\n",
        "Neste arquivo, o nome do usuário possui 15 caracteres. A partir deste arquivo, você deve criar um programa que gere um relatório, chamado \"relatório.txt\", no seguinte formato:\n",
        "\n",
        "```\n",
        "ACME Inc.   Uso do espaço em disco pelos usuários\n",
        "-------------------------------------------------\n",
        "Nr.  Usuário        Espaço utilizado     % do uso\n",
        "---- -------------- ---------------- ------------\n",
        "1    alexandre             434,99 MB       16,85%\n",
        "2    anderson             1187,99 MB       46,02%\n",
        "3    antonio               117,73 MB        4,56%\n",
        "4    carlos                 87,03 MB        3,37%\n",
        "5    cesar                   0,94 MB        0,04%\n",
        "6    rosemary              752,88 MB       29,16%\n",
        "\n",
        "Espaço total ocupado: 2581,57 MB\n",
        "Espaço médio ocupado: 430,26 MB\n",
        "```\n",
        "\n",
        "\n",
        "O arquivo de entrada deve ser lido uma única vez, e os dados armazenados em memória, caso sejam necessários, de forma a agilizar a execução do programa. A conversão da espaço ocupado em disco, de bytes para megabytes deverá ser feita através de uma função separada, que será chamada pelo programa principal. O cálculo do percentual de uso também deverá ser feito através de uma função, que será chamada pelo programa principal.\n"
      ]
    },
    {
      "cell_type": "code",
      "metadata": {
        "id": "1m-h2Fz7HtkV",
        "colab_type": "code",
        "colab": {}
      },
      "source": [
        "def toMB(tamanhoEmBytes):\n",
        "   tamanhoEmBytes = float(tamanhoEmBytes)\n",
        "   return (float(tamanhoEmBytes/(1024*1024)))\n",
        "   \n",
        "def percentualPorUsuario(lista, total):\n",
        "   percentual = (lista[3]/total)*100\n",
        "   #percentual = \"{0:.2f}\".format(percentual)\n",
        "   lista.insert((len(cadaUsuario)),percentual)\n",
        "\n",
        "def espacoMedioOcupado(lista, total):\n",
        "   media = 0\n",
        "   elementos = len(lista)\n",
        "   media = (total)/(elementos+1)\n",
        "   #media = \"{0:.2f}\".format(media)\n",
        "   return media\n",
        "\n",
        "usuarios = []\n",
        "posicao = 1\n",
        "total = media = 0\n",
        "with open (\"usuarios.txt\",\"r\") as arquivo:\n",
        "   valor = 0\n",
        "   for linha in arquivo:\n",
        "      usuarios.append(linha.split()) \n",
        "\n",
        "   for cadaUsuario in usuarios:\n",
        "      cadaUsuario.insert(0,posicao)\n",
        "      valor = toMB(float(cadaUsuario[2]))\n",
        "      total += valor\n",
        "      cadaUsuario.insert((len(cadaUsuario)),valor)\n",
        "      posicao+=1\n",
        "\n",
        "   for cadaUsuario in usuarios:\n",
        "      percentualPorUsuario(cadaUsuario, total)\n",
        "\n",
        "media = espacoMedioOcupado(cadaUsuario,total)\n",
        "\n",
        "with open (\"relatorio.txt\",\"w\") as arquivo:\n",
        "   arquivo.write(\"ACME Inc.               Uso do espaço em disco pelos usuários.\\n\")\n",
        "   arquivo.write(\"--------------------------------------------------------------\\n\")\n",
        "   arquivo.write(\"Nr.\\tUsuário        \\tEspaço utilizado\\t% do uso\\n\\n\")\n",
        "\n",
        "   for cadaUsuario in usuarios:\n",
        "      percentagem=\"{0:.2f}\".format(round(cadaUsuario[3],2))\n",
        "      arquivo.write(str(cadaUsuario[0])+'\\t'+\"{:<15}\".format(cadaUsuario[1])+'\\t'+\"{:<16}\".format(percentagem)+'MB'+'\\t'+\"{0:.2f}\".format(cadaUsuario[4])+'%'+'\\n')\n",
        "\n",
        "   arquivo.write('\\n\\nEspaço Total Ocupado: ' + \"{0:.2f}\".format(total) + ' MB')\n",
        "   arquivo.write('\\n\\nEspaço médio Ocupado: ' + \"{0:.2f}\".format(media) + ' MB')\n",
        "   arquivo.close()\n",
        "\n",
        "with open (\"relatorio.txt\",\"r\") as arquivo:\n",
        "   print(arquivo.read())"
      ],
      "execution_count": 0,
      "outputs": []
    }
  ]
}
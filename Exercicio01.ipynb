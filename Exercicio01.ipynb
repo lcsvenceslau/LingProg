{
 "cells": [
  {
   "cell_type": "markdown",
   "metadata": {},
   "source": [
    "Atividade Prática 1\n",
    "\n",
    "Nome: Lucas Venceslau dos Santos Soares\n",
    "RA: 818221111\n",
    "Turma: SIN3AN-MCA\n",
    "\n",
    "1 - Faça um Programa que peça o raio de um círculo, calcule e mostre sua área."
   ]
  },
  {
   "cell_type": "code",
   "execution_count": null,
   "metadata": {},
   "outputs": [],
   "source": [
    "import math\n",
    "pi = math.pi\n",
    "r = float(input('Digite o valor do raio:'))\n",
    "a = pi * r ** 2\n",
    "print(f'O valor da área do círculo é: {a}')"
   ]
  },
  {
   "cell_type": "markdown",
   "metadata": {},
   "source": [
    "2 - Faça um Programa que calcule a área de um quadrado, em seguida mostre o dobro."
   ]
  },
  {
   "cell_type": "code",
   "execution_count": null,
   "metadata": {},
   "outputs": [],
   "source": [
    "lado = int(input('Digite o tamanho do lado:'))\n",
    "a = lado * 2\n",
    "print(f'O valor da área do quadrado é: {a}')"
   ]
  },
  {
   "cell_type": "markdown",
   "metadata": {},
   "source": [
    "3 - Faça um Programa que pergunte quanto você ganha por hora e o número de horas trabalhadas no mês. Calcule e mostre o total do seu salário no referido mês."
   ]
  },
  {
   "cell_type": "code",
   "execution_count": null,
   "metadata": {},
   "outputs": [],
   "source": [
    "ganhoHora = float(input('Digite quanto você ganha por hora:'))\n",
    "horasMes = int(input('Digite a quantidade de horas que você trabalhou nesse mês:'))\n",
    "t = horasMes * ganhoHora\n",
    "print(f'O total do salario é de: R$ {t}')"
   ]
  },
  {
   "cell_type": "markdown",
   "metadata": {},
   "source": [
    "4 - Faça um Programa que peça a temperatura em graus Farenheit, transforme e mostre a temperatura em graus Celsius. C = (5 * (F-32) / 9)."
   ]
  },
  {
   "cell_type": "code",
   "execution_count": null,
   "metadata": {},
   "outputs": [],
   "source": [
    "F = int(input('Digite a temperatura em Farenheit:'))\n",
    "C = (5 * (F - 32) / 9)\n",
    "print(f'O valor em Celcius é: {C} °C')"
   ]
  },
  {
   "cell_type": "markdown",
   "metadata": {},
   "source": [
    "5 - Faça um Programa que peça a temperatura em graus Celsius, transforme e mostre em graus Farenheit."
   ]
  },
  {
   "cell_type": "code",
   "execution_count": null,
   "metadata": {},
   "outputs": [],
   "source": [
    "C = int(input('Digite a temperatura em graus Celsius:'))\n",
    "F = (C * (9 // 5)) + 32\n",
    "print(f'O valor da temperatura em Farenheit é: {F} °F')"
   ]
  },
  {
   "cell_type": "markdown",
   "metadata": {},
   "source": [
    "6 - Faça um Programa que peça 2 números inteiros e um número real. Calcule e mostre:\n",
    "\n",
    "- o produto do dobro do primeiro com metade do segundo.\n",
    "- a soma do triplo do primeiro com o terceiro.\n",
    "- o terceiro elevado ao cubo."
   ]
  },
  {
   "cell_type": "code",
   "execution_count": null,
   "metadata": {},
   "outputs": [],
   "source": [
    "a = int(input('Digite o primeiro valor inteiro:'))\n",
    "b = int(input('Digite o segundo valor inteiro:'))\n",
    "c = float(input('Digite o valor real:'))\n",
    "\n",
    "x = (2 * a) * (b // 2)\n",
    "y = (3 * a) + c\n",
    "z = c ** 3\n",
    "\n",
    "print(f'O produto do dobro do primeiro com metade do segundo é: {x}')\n",
    "print(f'A soma do triplo do primeiro com o terceiro. é: {y}')\n",
    "print(f'O terceiro elevado ao cubo: {z}')"
   ]
  },
  {
   "cell_type": "markdown",
   "metadata": {},
   "source": [
    "7 - João Papo-de-Pescador, homem de bem, comprou um microcomputador para controlar o rendimento diário de seu trabalho. Toda vez que ele traz um peso de peixes maior que o estabelecido pelo regulamento de pesca do estado de São Paulo (50 quilos) deve pagar uma multa de 4,00 reais por quilo excedente. João precisa que você faça um programa que leia a variável peso (peso de peixes) e verifique se há excesso. Se houver, gravar na variável excesso e na variável multa o valor da multa que João deverá pagar. Caso contrário mostrar tais variáveis com o conteúdo ZERO.por quilo excedente. João precisa que você faça um programa que leia a variável peso (peso de peixes) e verifique se há excesso. Se houver, gravar na variável excesso e na variável multa o valor da multa que João deverá pagar. Caso contrário mostrar tais variáveis com o conteúdo ZERO."
   ]
  },
  {
   "cell_type": "code",
   "execution_count": null,
   "metadata": {},
   "outputs": [],
   "source": [
    "multa = 4\n",
    "excesso = 0\n",
    "taxa = 0\n",
    "peso = float(input('Digite o peso dos peixes:'))\n",
    "if peso > 50:\n",
    "    excesso = peso - 50\n",
    "    taxa = multa * excesso\n",
    "\n",
    "print(f'A multa é de R$ {multa} pois houve excesso de {excesso} kilos de peixes.')"
   ]
  },
  {
   "cell_type": "markdown",
   "metadata": {},
   "source": [
    "8 - Faça um Programa que pergunte quanto você ganha por hora e o número de horas trabalhadas no mês. Calcule e mostre o total do seu salário no referido mês, sabendo-se que são descontados 11% para o Imposto de Renda, 8% para o INSS e 5% para o sindicato, faça um programa que nos dê:\n",
    "\n",
    "- salário bruto.\n",
    "- quanto pagou ao INSS.\n",
    "- quanto pagou ao sindicato.\n",
    "- o salário líquido.\n",
    "- calcule os descontos e o salário líquido, conforme a tabela abaixo:\n",
    "+ Salário Bruto : RS\n",
    "- IR (11%) : RS\n",
    "- INSS (8%) : RS\n",
    "- Sindicato ( 5%) : RS \n",
    "= Salário Liquido : RS\n",
    "\n",
    "Obs.: Salário Bruto - Descontos = Salário Líquido."
   ]
  },
  {
   "cell_type": "code",
   "execution_count": null,
   "metadata": {},
   "outputs": [],
   "source": [
    "ganhoHora = float(input('Digite o valor que você ganha por hora:'))\n",
    "horasMes = int(input('Digite o número de horas trabalhadas no mês:'))\n",
    "t = ganhoHora * horasMes\n",
    "iR = t * 0.11\n",
    "inss = t * 0.08\n",
    "sindicato = t * 0.05\n",
    "liq = t - iR - inss - sindicato\n",
    "\n",
    "print(f'+ Salário Bruto: R$ {t}')\n",
    "print(f'- IR (11%): R$ {iR}')\n",
    "print(f'- INSS (8%): R$ {inss}')\n",
    "print(f'- Sindicato (5%): R$ {sindicato}')\n",
    "print(f'= Salário Líquido: R$ {liq}')"
   ]
  },
  {
   "cell_type": "markdown",
   "metadata": {},
   "source": [
    "9 - Faça um programa que leia 2 strings e informe o conteúdo delas seguido do seu comprimento. Informe também se as duas strings possuem o mesmo comprimento e são iguais ou diferentes no conteúdo.\n",
    "Exemplo:\n",
    "\n",
    "String 1: Brasil Hexa 2018\n",
    "String 2: Brasil! Hexa 2018!\n",
    "Tamanho de \"Brasil Hexa 2018\": 16 caracteres\n",
    "Tamanho de \"Brasil! Hexa 2018!\": 18 caracteres\n",
    "As duas strings são de tamanhos diferentes.\n",
    "As duas strings possuem conteúdo diferente."
   ]
  },
  {
   "cell_type": "code",
   "execution_count": null,
   "metadata": {},
   "outputs": [],
   "source": [
    "string1 = input('Digite uma frase qualquer:')\n",
    "string2 = input('Digite outra frase qualquer:')\n",
    "\n",
    "print(f'String 1: {string1}')\n",
    "print(f'String 2: {string2}')\n",
    "print(\"Tamanho da primeira frase é de '%s: %s\" % (string1, len(string1)))\n",
    "print(\"Tamanho da segunda frase é de '%s: %s'\" % (string2, len(string2)))\n",
    "\n",
    "if (len(string1), len(string2)):\n",
    "    print(\"As duas strings são de tamanhos diferentes.\")\n",
    "if (string1 != string2):\n",
    "    print(\"As duas strings possuem conteúdo diferente.\")"
   ]
  },
  {
   "cell_type": "markdown",
   "metadata": {},
   "source": [
    "10 - Faça um programa que permita ao usuário digitar o seu nome e em seguida mostre o nome do usuário de trás para frente utilizando somente letras maiúsculas. Dica: lembre−se que ao informar o nome o usuário pode digitar letras maiúsculas ou minúsculas. Observação: não use loops."
   ]
  },
  {
   "cell_type": "code",
   "execution_count": null,
   "metadata": {},
   "outputs": [],
   "source": [
    "nome = input('Digite o seu nome: ')\n",
    "inverter = nome[::-1].upper()\n",
    "\n",
    "print(inverter)"
   ]
  },
  {
   "cell_type": "markdown",
   "metadata": {},
   "source": [
    "11 - Faça um programa que solicite a data de nascimento (dd/mm/aaaa) do usuário e imprima a data com o nome do mês por extenso. Exemplo:\n",
    "\n",
    "Data de Nascimento: 29/10/1973\n",
    "Você nasceu em 29 de Outubro de 1973.\n",
    "Obs.: Não use desvio condicional nem loops."
   ]
  },
  {
   "cell_type": "code",
   "execution_count": null,
   "metadata": {},
   "outputs": [],
   "source": [
    "data = input('Digite sua data de nascimento completa:')\n",
    "meses = ['janeiro','fevereiro','março','abril','maio','junho','julho','agosto','setembro','outubro','novembro','dezembro']\n",
    "dia, mes, ano = data.split(\"/\")\n",
    "mes = meses[int(mes) - 1]\n",
    "\n",
    "print(f'Você nasceu no dia {dia} de {mes} de {ano}.')"
   ]
  },
  {
   "cell_type": "markdown",
   "metadata": {},
   "source": [
    "12 - Leet é uma forma de se escrever o alfabeto latino usando outros símbolos em lugar das letras, como números por exemplo. A própria palavra leet admite muitas variações, como l33t ou 1337. O uso do leet reflete uma subcultura relacionada ao mundo dos jogos de computador e internet, sendo muito usada para confundir os iniciantes e afirmar-se como parte de um grupo. Pesquise sobre as principais formas de traduzir as letras. Depois, faça um programa que peça uma texto e transforme-o para a grafia leet speak."
   ]
  },
  {
   "cell_type": "code",
   "execution_count": null,
   "metadata": {},
   "outputs": [],
   "source": [
    "leet = input('Digite uma frase qualquer:')\n",
    "\n",
    "leet = leet.replace('a','ä')\n",
    "leet = leet.replace('b','ß')\n",
    "leet = leet.replace('c','¢')\n",
    "leet = leet.replace('d','I>')\n",
    "leet = leet.replace('e','ë')\n",
    "leet = leet.replace('g','6')\n",
    "leet = leet.replace('h','#')\n",
    "leet = leet.replace('i','ï')\n",
    "leet = leet.replace('j','j')\n",
    "leet = leet.replace('l','£')\n",
    "leet = leet.replace('m','^^')\n",
    "leet = leet.replace('n','//')\n",
    "leet = leet.replace('o','ö')\n",
    "leet = leet.replace('p','p')\n",
    "leet = leet.replace('r','Я')\n",
    "leet = leet.replace('s','§')\n",
    "leet = leet.replace('t','7')\n",
    "leet = leet.replace('x','><')\n",
    "\n",
    "print(f'A frase traduzida para leet é: {leet}')"
   ]
  }
 ],
 "metadata": {
  "kernelspec": {
   "display_name": "Python 3",
   "language": "python",
   "name": "python3"
  },
  "language_info": {
   "codemirror_mode": {
    "name": "ipython",
    "version": 3
   },
   "file_extension": ".py",
   "mimetype": "text/x-python",
   "name": "python",
   "nbconvert_exporter": "python",
   "pygments_lexer": "ipython3",
   "version": "3.7.4"
  }
 },
 "nbformat": 4,
 "nbformat_minor": 2
}

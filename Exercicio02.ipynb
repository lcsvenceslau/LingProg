{
 "cells": [
  {
   "cell_type": "markdown",
   "metadata": {},
   "source": [
    "![logo_usjt.png](https://www.usjt.br/app/themes/mobister/dist/images/sao-judas-universidade.png)"
   ]
  },
  {
   "cell_type": "markdown",
   "metadata": {},
   "source": [
    "# Paradigmas de Linguagens de Programação\n",
    "- **Professor**: Sergio Bonato <antonio.bonato@saojudas.br>"
   ]
  },
  {
   "cell_type": "markdown",
   "metadata": {},
   "source": [
    "# Atividade02 - Python Básico - Estruturas de Dados\n",
    "\n",
    "**Conteúdo:**\n",
    "- Listas\n",
    "- Dicionários \n",
    "- Tuplas\n",
    "- Sets"
   ]
  },
  {
   "cell_type": "markdown",
   "metadata": {},
   "source": [
    "## Autor\n",
    "- **Aluno:**\n",
    "\n",
    "Obs: as tarefas devem ser individuais."
   ]
  },
  {
   "cell_type": "markdown",
   "metadata": {},
   "source": [
    "## Exercícios"
   ]
  },
  {
   "cell_type": "markdown",
   "metadata": {},
   "source": [
    "#### 1 Escreva um programa que some todos os itens da lista:\n",
    "`[1,2,3,4,5,6,7,8,9,10]`."
   ]
  },
  {
   "cell_type": "code",
   "execution_count": 1,
   "metadata": {},
   "outputs": [
    {
     "name": "stdout",
     "output_type": "stream",
     "text": [
      "A soma de todos os números da lista é: 55\n"
     ]
    }
   ],
   "source": [
    "soma = sum([1,2,3,4,5,6,7,8,9,10])\n",
    "print(f'A soma de todos os números da lista é: {soma}')"
   ]
  },
  {
   "cell_type": "markdown",
   "metadata": {},
   "source": [
    "#### 2 Escreva um programa que some todos os valores do dicionário:\n",
    "`{'a':1, 'b':2, 'c':3, 'd':4, 'e':5, 'f':6, 'g':7, 'h':8, 'i':9, 'j':10}`."
   ]
  },
  {
   "cell_type": "code",
   "execution_count": 13,
   "metadata": {},
   "outputs": [
    {
     "name": "stdout",
     "output_type": "stream",
     "text": [
      "A soma de todos os valores do dicionário é: 55\n"
     ]
    }
   ],
   "source": [
    "dic = {'a':1, 'b':2, 'c':3, 'd':4, 'e':5, 'f':6, 'g':7, 'h':8, 'i':9, 'j':10}\n",
    "soma = sum([ int(x) for x in dic.values() ])\n",
    "print(f'A soma de todos os valores do dicionário é: {soma}')"
   ]
  },
  {
   "cell_type": "markdown",
   "metadata": {},
   "source": [
    "#### 3 Escreva um programa que some todos os itens da tupla:\n",
    "`(1,2,3,4,5,6,7,8,9,10)`."
   ]
  },
  {
   "cell_type": "code",
   "execution_count": null,
   "metadata": {},
   "outputs": [],
   "source": [
    "soma = sum((1,2,3,4,5,6,7,8,9,10))\n",
    "print(f'A soma de todos os itens da tupla é: {soma}')"
   ]
  },
  {
   "cell_type": "markdown",
   "metadata": {},
   "source": [
    "#### 4 Crie um programa que recebe uma lista de números e\n",
    "- retorne o maior elemento\n",
    "- retorne a soma dos elementos\n",
    "- retorne o número de ocorrências do primeiro elemento da lista\n",
    "- retorne a média dos elementos\n",
    "- retorne a mediana dos elementos (procure mediana na Wikipedia)"
   ]
  },
  {
   "cell_type": "code",
   "execution_count": null,
   "metadata": {},
   "outputs": [],
   "source": [
    "from statistics import median\n",
    "\n",
    "lista = [int(input('Digite um número:')) for i in range(10)]\n",
    "print(f'Maior valor da lista:', max(lista))\n",
    "print(f'A soma dos valores:', sum(lista))\n",
    "print(f'Número de ocorrências do 1º elemento:', lista.count(lista[0]))\n",
    "print(f'A média dos valores:', sum(lista) / 2)\n",
    "print(f'Mediana da lista:', median(lista))"
   ]
  },
  {
   "cell_type": "markdown",
   "metadata": {},
   "source": [
    "5 Escreva um programa que lê duas notas de 5 alunos e armazena tais notas em um dicionário, onde a chave é o nome do aluno.  Depois o programa deve retornar a média do aluno, dado seu nome."
   ]
  },
  {
   "cell_type": "code",
   "execution_count": 15,
   "metadata": {},
   "outputs": [
    {
     "name": "stdout",
     "output_type": "stream",
     "text": [
      "Informe o nome do aluno(a): A\n",
      "Informe a primeira nota:8\n",
      "Informe a primeira nota: 9\n",
      "{'nome': 'A', 'nota1': 8, 'nota2': 9, 'media': 8.5}\n",
      "Informe o nome do aluno(a): B\n",
      "Informe a primeira nota:8\n",
      "Informe a primeira nota: 5\n",
      "{'nome': 'B', 'nota1': 8, 'nota2': 5, 'media': 6.5}\n",
      "Informe o nome do aluno(a): C\n",
      "Informe a primeira nota:9\n",
      "Informe a primeira nota: 6\n",
      "{'nome': 'C', 'nota1': 9, 'nota2': 6, 'media': 7.5}\n",
      "Informe o nome do aluno(a): E\n",
      "Informe a primeira nota:6\n",
      "Informe a primeira nota: 9\n",
      "{'nome': 'E', 'nota1': 6, 'nota2': 9, 'media': 7.5}\n",
      "Informe o nome do aluno(a): E\n",
      "Informe a primeira nota:8\n",
      "Informe a primeira nota: 6\n",
      "{'nome': 'E', 'nota1': 8, 'nota2': 6, 'media': 7.0}\n",
      "\n"
     ]
    }
   ],
   "source": [
    "alunos = 0\n",
    "\n",
    "while (alunos < 5):\n",
    "    \n",
    "    aluno = {} \n",
    "\n",
    "    aluno['nome'] = input('Informe o nome do aluno(a): ').strip().capitalize()\n",
    "    aluno['nota1'] = int(input('Informe a primeira nota:'))\n",
    "    aluno['nota2'] = int(input('Informe a primeira nota: '))\n",
    "\n",
    "    soma = aluno['nota1'] + aluno['nota2']\n",
    "    media = soma/2\n",
    "\n",
    "    aluno['media'] = media\n",
    "\n",
    "    print(aluno)\n",
    "\n",
    "    alunos = alunos + 1\n",
    "    \n",
    "else:\n",
    "    print('')\n",
    "\n",
    "\n"
   ]
  },
  {
   "cell_type": "markdown",
   "metadata": {},
   "source": [
    "#### 6 Escreva um programa para armazenar uma agenda de telefones em um dicionário. Cada pessoa pode ter um ou mais telefones e a chave do dicionário é o nome da pessoa. Seu programa deve ter as seguintes funcionalidades:\n",
    "- incluirNovoNome – essa função acrescenta um novo nome na agenda, com um ou mais telefones. Ela deve receber como argumentos o nome e os telefones.\n",
    "- incluirTelefone – essa função acrescenta um telefone em um nome existente na agenda. Caso o nome não exista na agenda, você̂ deve perguntar se a pessoa deseja inclui-lo. Caso a resposta seja afirmativa, use a função anterior para incluir o novo nome.\n",
    "- excluirTelefone – essa função exclui um telefone de uma pessoa que já está na agenda. Se a pessoa tiver apenas um telefone, ela deve ser excluída da agenda.\n",
    "- excluirNome – essa função exclui uma pessoa da agenda.\n",
    "- consultarTelefone – essa função retorna os telefones de uma pessoa na agenda.\n"
   ]
  },
  {
   "cell_type": "code",
   "execution_count": null,
   "metadata": {},
   "outputs": [
    {
     "name": "stdout",
     "output_type": "stream",
     "text": [
      "\n",
      "Escolha uma opção: \n",
      "1 - Incluir Novo Nome\n",
      "2 - Incluir Telefone\n",
      "3 - Excluir Telefone\n",
      "4 - Excluir Nome \n",
      "5 - Consultar Agenda\n",
      "0 - Encerrar Programa\n",
      "2\n",
      "Insira o nome da pessoa: Lucas\n",
      "Insira um telefone da pessoa: 11951162936\n",
      "\n",
      "Escolha uma opção: \n",
      "1 - Incluir Novo Nome\n",
      "2 - Incluir Telefone\n",
      "3 - Excluir Telefone\n",
      "4 - Excluir Nome \n",
      "5 - Consultar Agenda\n",
      "0 - Encerrar Programa\n",
      "2\n",
      "Insira o nome da pessoa: Lucas\n",
      "Insira um telefone da pessoa: 1234\n",
      "\n",
      "Escolha uma opção: \n",
      "1 - Incluir Novo Nome\n",
      "2 - Incluir Telefone\n",
      "3 - Excluir Telefone\n",
      "4 - Excluir Nome \n",
      "5 - Consultar Agenda\n",
      "0 - Encerrar Programa\n",
      "5\n",
      "Insira o nome da pessoa: Lucas\n",
      "Insira um telefone da pessoa: 1234\n",
      "\n",
      "Escolha uma opção: \n",
      "1 - Incluir Novo Nome\n",
      "2 - Incluir Telefone\n",
      "3 - Excluir Telefone\n",
      "4 - Excluir Nome \n",
      "5 - Consultar Agenda\n",
      "0 - Encerrar Programa\n",
      "4\n",
      "Insira o nome da pessoa: Lucas\n",
      "Insira um telefone da pessoa: 555\n",
      "\n",
      "Escolha uma opção: \n",
      "1 - Incluir Novo Nome\n",
      "2 - Incluir Telefone\n",
      "3 - Excluir Telefone\n",
      "4 - Excluir Nome \n",
      "5 - Consultar Agenda\n",
      "0 - Encerrar Programa\n",
      "5\n",
      "Insira o nome da pessoa: Lucas\n",
      "Insira um telefone da pessoa: 1234\n",
      "\n",
      "Escolha uma opção: \n",
      "1 - Incluir Novo Nome\n",
      "2 - Incluir Telefone\n",
      "3 - Excluir Telefone\n",
      "4 - Excluir Nome \n",
      "5 - Consultar Agenda\n",
      "0 - Encerrar Programa\n",
      "1\n",
      "Insira o nome da pessoa: João\n",
      "Insira um telefone da pessoa: 567\n",
      "\n",
      "Escolha uma opção: \n",
      "1 - Incluir Novo Nome\n",
      "2 - Incluir Telefone\n",
      "3 - Excluir Telefone\n",
      "4 - Excluir Nome \n",
      "5 - Consultar Agenda\n",
      "0 - Encerrar Programa\n",
      "0\n"
     ]
    }
   ],
   "source": [
    "agenda = {}\n",
    "\n",
    "def incluir_nome(nome, telefones):\n",
    "    agenda[nome] = telefones\n",
    "    \n",
    "def incluir_telefone(nome, telefone):\n",
    "    if nome in agenda.keys():\n",
    "        agenda[nome].append(telefone)\n",
    "    elif input(\"Essa pessoa não existe\"):\n",
    "        incluir_novo_nome(nome, [telefone])\n",
    "\n",
    "def excluir_telefone(nome, telefone):\n",
    "    if nome in agenda.keys():\n",
    "        if len(agenda[nome]) == 1:\n",
    "            del agenda[nome]\n",
    "        else:\n",
    "            agenda[nome].remove(telefone)\n",
    "\n",
    "def excluir_nome(nome):\n",
    "    del agenda[nome]\n",
    "\n",
    "def consultarTelefone(nome):\n",
    "    return agenda[nome]\n",
    "\n",
    "id = -1\n",
    "while id != 0:\n",
    "    \n",
    "    id = int(input(\"\\nEscolha uma opção: \\n1 - Incluir Novo Nome\\n2 - Incluir Telefone\\n3 - Excluir Telefone\\n4 - Excluir Nome \\n5 - Consultar Agenda\\n0 - Encerrar Programa\\n\"))\n",
    "    \n",
    "    if id == 1 or \"s\":\n",
    "        nome = input(\"Insira o nome da pessoa: \")\n",
    "        telefone  = input(\"Insira um telefone da pessoa: \")\n",
    "        incluir_nome(nome, telefone)            \n",
    "    elif id == 2:\n",
    "        incluir_telefone(input(\"Insira o nome da pessoa: \"), input(\"Insira um novo telefone da pessoa: \"))\n",
    "    elif id == 3:\n",
    "        excluir_telefone(input(\"Insira o nome da pessoa: \"), input(\"Insira o telefone da pessoa a qual deseja excluir: \"))\n",
    "    elif id == 4:\n",
    "        excluir_nome(input(\"Insira o nome da pessoa: \"))\n",
    "    elif id == 5:\n",
    "        print(consultar_telefone(input(\"Insira o nome da pessoa: \")))\n",
    "\n"
   ]
  },
  {
   "cell_type": "markdown",
   "metadata": {},
   "source": [
    "#### 7 Faça um dicionário que armazene os nomes dos estados da região sudeste, sua população, sua capital e seu PIB (procure na Wikipedia). Use a sigla do estado como chave. Depois imprima (com print) uma lista com a sigla e os demais dados ordenados por ordem alfabética de sigla."
   ]
  },
  {
   "cell_type": "code",
   "execution_count": 3,
   "metadata": {},
   "outputs": [
    {
     "name": "stdout",
     "output_type": "stream",
     "text": [
      "Digite o estado da região sudeste:SP\n",
      "Digite a população da região:40\n",
      "Digite a capital da região:SP\n",
      "Digite o PIB da região:4\n",
      "Digite o estado da região sudeste:RJ\n",
      "Digite a população da região:40\n",
      "Digite a capital da região:RJ\n",
      "Digite o PIB da região:8\n",
      "Digite o estado da região sudeste:ES\n",
      "Digite a população da região:74\n",
      "Digite a capital da região:ES\n",
      "Digite o PIB da região:1\n",
      "Digite o estado da região sudeste:MG\n",
      "Digite a população da região:40\n",
      "Digite a capital da região:MG\n",
      "Digite o PIB da região:4\n",
      "Lista: {'regiao': 'MG', 'populacao': '40', 'capital': 'MG', 'pib': '4'}\n"
     ]
    }
   ],
   "source": [
    "contador = 0\n",
    "\n",
    "while (contador < 4):\n",
    "\n",
    "    lista = {}\n",
    "\n",
    "    lista['regiao'] = input('Digite o estado da região sudeste:')\n",
    "    lista['populacao'] = input('Digite a população da região:')\n",
    "    lista['capital'] = input('Digite a capital da região:')\n",
    "    lista['pib'] = input('Digite o PIB da região:')\n",
    "    \n",
    "    contador = contador + 1\n",
    "    \n",
    "else:\n",
    "    print(f'Lista: {lista}')\n"
   ]
  },
  {
   "cell_type": "markdown",
   "metadata": {},
   "source": [
    "#### 8 Retorne um conjunto de elementos que estão em A ou B, mas não em ambos:\n",
    "- `A = {10, 20, 30, 40, 50}`\n",
    "- `B = {30, 40, 50, 60, 70}`"
   ]
  },
  {
   "cell_type": "code",
   "execution_count": null,
   "metadata": {},
   "outputs": [],
   "source": [
    "a = set({10,20,30,40,50})\n",
    "b = set({30,40,50,60,70})\n",
    "\n",
    "print(a.difference(b))\n",
    "print(b.difference(a))"
   ]
  },
  {
   "cell_type": "markdown",
   "metadata": {},
   "source": [
    "#### 9 Considere a lista `[1, 2, 3, 4, 5, 6, 7, 8, 9, 10]`. Crie outra lista com a raiz quadrada de cada elemento da lista dada. Sugestão: use list comprehension."
   ]
  },
  {
   "cell_type": "code",
   "execution_count": 92,
   "metadata": {},
   "outputs": [],
   "source": [
    "#solução"
   ]
  },
  {
   "cell_type": "markdown",
   "metadata": {},
   "source": [
    "#### 10 Considere a string `\"Mike; ;Emma;Kelly; ;Brad;Zed\"`. Imprima, com print, outra string com os mesmos nomes, em ordem alfabética decrescente, sem os nomes em branco e com os nomes separados por tab (`\\t`)."
   ]
  },
  {
   "cell_type": "code",
   "execution_count": 93,
   "metadata": {},
   "outputs": [],
   "source": [
    "#solução"
   ]
  },
  {
   "cell_type": "markdown",
   "metadata": {},
   "source": [
    "#### 11 Troque o valor `20` pelo valor `25` da tupla `(\"Laranja\", [10, 20, 30], {1:5, 3:15,'728':25})`. Depois troque o valor `[10, 25, 30]` pelo valor `'Laranja'`. Deixe o código que causa erro comentado."
   ]
  },
  {
   "cell_type": "code",
   "execution_count": 94,
   "metadata": {},
   "outputs": [],
   "source": [
    "#solução"
   ]
  },
  {
   "cell_type": "markdown",
   "metadata": {},
   "source": [
    "#### 12 Leet é uma forma de se escrever o alfabeto latino usando outros símbolos em lugar das letras, como números por exemplo. A própria palavra leet admite muitas variações, como l33t ou 1337. O uso do leet reflete uma subcultura relacionada ao mundo dos jogos de computador e internet, sendo muito usada para confundir os iniciantes e afirmar-se como parte de um grupo. Pesquise sobre as principais formas de traduzir as letras. Depois, faça um programa que peça uma texto e transforme-o para a grafia leet speak.\n",
    "Desafio: não use loops nem desvios condicionais.\n"
   ]
  },
  {
   "cell_type": "code",
   "execution_count": null,
   "metadata": {},
   "outputs": [],
   "source": [
    "#solução"
   ]
  },
  {
   "cell_type": "markdown",
   "metadata": {},
   "source": [
    "#### 13 Considere o dicionário abaixo. Crie outro dicionário a partir deste tomando o valor como chave e a chave como valor:\n",
    "`{'a':1, 'b':2, 'c':3, 'd':4, 'e':5, 'f':6, 'g':7, 'h':8, 'i':9, 'j':10}`"
   ]
  },
  {
   "cell_type": "code",
   "execution_count": null,
   "metadata": {},
   "outputs": [],
   "source": [
    "#solução"
   ]
  },
  {
   "cell_type": "markdown",
   "metadata": {},
   "source": [
    "##### 14 Uma pista de Kart permite 10 voltas para cada um de 6 corredores. Escreva um programa que leia todos os tempos em segundos e os guarde em um dicionário, onde a chave é o nome do corredor. Ao final diga de quem foi a melhor volta da prova e em que volta; e ainda a classificação final em ordem (1o o campeão). O campeão é o que tem a menor média de tempos."
   ]
  },
  {
   "cell_type": "code",
   "execution_count": null,
   "metadata": {},
   "outputs": [],
   "source": [
    "#solução"
   ]
  },
  {
   "cell_type": "markdown",
   "metadata": {},
   "source": [
    "##### 15 *Blocos de ações.* Um bloco de ações é representado como um certo número de atributos, incluindo uma data de compra, um preço de compra, um número de ações e um símbolo de cotação. Podemos registrar essas informações em uma tupla para cada bloco de estoque e realizar várias operações simples nos blocos.\n",
    "\n",
    "Vamos sonhar que temos o seguinte portfólio.\n",
    "\n",
    "<table>\n",
    "    <tr><th>Data da Compra</th><th>Preço de Compra</th><th>Ações</th><th>Símbolo</th><th>Preço Atual</th></tr>\n",
    "<tr><td>26 Jan 2015</td><td> 43.50</td><td> 25</td><td> CAT</td><td> 92.45</td><tr>\n",
    "<tr><td>26 Jan 2015</td><td> 42.80</td><td> 50</td><td> DD</td><td> 51.19</td><tr>\n",
    "<tr><td>26 Jan 2015</td><td> 42.10</td><td> 75</td><td> EK</td><td> 34.87</td><tr>\n",
    "<tr><td>26 Jan 2015</td><td> 37.58</td><td> 100</td><td> GM</td><td> 37.58</td><tr>\n",
    "</table>\n",
    "Podemos representar cada bloco de ações como uma tupla de cinco com data de compra, preço de compra, ações, símbolo e preço atual.\n",
    "\n",
    "`portfolio = [\n",
    "(\"26-Jan-2015\", 43.50, 25, 'CAT', 92.45),\n",
    "(\"26-Jan-2015\", 42.80, 50, 'DD', 51.19),\n",
    "(\"26-Jan-2015\", 42.10, 75, 'EK', 34.87),\n",
    "(\"26-Jan-2015\", 37.58, 100, 'GM', 37.58)\n",
    "]`\n",
    "\n",
    "Desenvolva um programa que examine cada bloco, multiplique ações pelo preço de compra e determine o preço total de compra do portfólio. E, depois, examine cada bloco, multiplique ações pelo preço de compra e ações pelo preço atual para determinar o valor total ganho ou perdido."
   ]
  },
  {
   "cell_type": "code",
   "execution_count": null,
   "metadata": {},
   "outputs": [],
   "source": [
    "#solução"
   ]
  }
 ],
 "metadata": {
  "colab": {
   "name": "NBA_aula.ipynb",
   "provenance": []
  },
  "kernelspec": {
   "display_name": "Python 3",
   "language": "python",
   "name": "python3"
  },
  "language_info": {
   "codemirror_mode": {
    "name": "ipython",
    "version": 3
   },
   "file_extension": ".py",
   "mimetype": "text/x-python",
   "name": "python",
   "nbconvert_exporter": "python",
   "pygments_lexer": "ipython3",
   "version": "3.7.4"
  }
 },
 "nbformat": 4,
 "nbformat_minor": 1
}
